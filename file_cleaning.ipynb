{
 "cells": [
  {
   "cell_type": "markdown",
   "source": [
    "###"
   ],
   "metadata": {
    "collapsed": false,
    "pycharm": {
     "name": "#%% md\n"
    }
   }
  },
  {
   "cell_type": "markdown",
   "source": [
    "We'll evaluate if all sources have same columns, then we'll use pandas for our cleansing. We'll import re module in case on further analysis we need to focus on bra size."
   ],
   "metadata": {
    "collapsed": false,
    "pycharm": {
     "name": "#%% md\n"
    }
   }
  },
  {
   "cell_type": "code",
   "execution_count": 1,
   "outputs": [],
   "source": [
    "import pandas as pd\n",
    "import numpy as np\n",
    "import re"
   ],
   "metadata": {
    "collapsed": false,
    "pycharm": {
     "name": "#%%\n"
    }
   }
  },
  {
   "cell_type": "code",
   "execution_count": 2,
   "outputs": [],
   "source": [
    "ae = pd.read_csv('src/ae_com.csv')\n",
    "amz = pd.read_csv('src/amazon_com.csv')\n",
    "bte = pd.read_csv('src/btemptd_com.csv')\n",
    "ck = pd.read_csv('src/calvinklein_com.csv')\n",
    "hp = pd.read_csv('src/hankypanky_com.csv')\n",
    "macys = pd.read_csv('src/macys_com.csv')\n",
    "ns = pd.read_csv('src/shop_nordstrom_com.csv')\n",
    "tops = pd.read_csv('src/us_topshop_com.csv')\n",
    "vs = pd.read_csv('src/victoriassecret_com.csv')"
   ],
   "metadata": {
    "collapsed": false,
    "pycharm": {
     "name": "#%%\n"
    }
   }
  },
  {
   "cell_type": "code",
   "execution_count": 3,
   "outputs": [],
   "source": [
    "frames = [ae,amz,bte,ck,hp,macys,ns,tops,vs]"
   ],
   "metadata": {
    "collapsed": false,
    "pycharm": {
     "name": "#%%\n"
    }
   }
  },
  {
   "cell_type": "code",
   "execution_count": 4,
   "outputs": [
    {
     "name": "stdout",
     "output_type": "stream",
     "text": [
      "(1590, 13)\n",
      "(1452, 13)\n",
      "(608, 13)\n",
      "(737, 13)\n",
      "(3183, 13)\n",
      "(3409, 13)\n",
      "(1196, 13)\n",
      "(419, 13)\n",
      "(6077, 13)\n"
     ]
    }
   ],
   "source": [
    "for frame in frames:\n",
    "    print(frame.shape)"
   ],
   "metadata": {
    "collapsed": false,
    "pycharm": {
     "name": "#%%\n"
    }
   }
  },
  {
   "cell_type": "code",
   "execution_count": 5,
   "outputs": [],
   "source": [
    "transactions = pd.concat(frames)"
   ],
   "metadata": {
    "collapsed": false,
    "pycharm": {
     "name": "#%%\n"
    }
   }
  },
  {
   "cell_type": "code",
   "execution_count": 6,
   "outputs": [
    {
     "data": {
      "text/plain": "retailer\nAe US                 1590\nAmazon US             1452\nBtemptd US             608\nCalvin Klein US        737\nHankypanky US         3183\nMacys US              3409\nNordstrom US          1196\nTopshop US             419\nVictoriassecret US    6077\nName: retailer, dtype: int64"
     },
     "execution_count": 6,
     "metadata": {},
     "output_type": "execute_result"
    }
   ],
   "source": [
    "transactions.groupby(by='retailer')['retailer'].count()"
   ],
   "metadata": {
    "collapsed": false,
    "pycharm": {
     "name": "#%%\n"
    }
   }
  },
  {
   "cell_type": "code",
   "execution_count": 7,
   "outputs": [
    {
     "data": {
      "text/plain": "(18671, 13)"
     },
     "execution_count": 7,
     "metadata": {},
     "output_type": "execute_result"
    }
   ],
   "source": [
    "transactions.shape"
   ],
   "metadata": {
    "collapsed": false,
    "pycharm": {
     "name": "#%%\n"
    }
   }
  },
  {
   "cell_type": "code",
   "execution_count": 8,
   "outputs": [
    {
     "data": {
      "text/plain": "                      product_name   mrp                          pdp_url  \\\n0  Aerie Adjustable Low-Back Strap  15.5  Aerie Adjustable Low-Back Strap   \n1  Aerie Adjustable Low-Back Strap  15.5  Aerie Adjustable Low-Back Strap   \n2          Aerie Backless Bare Bra  36.5          Aerie Backless Bare Bra   \n3          Aerie Backless Bare Bra  36.5          Aerie Backless Bare Bra   \n4   Aerie Backless Pushup Bare Bra  38.5   Aerie Backless Pushup Bare Bra   \n\n       color total_sizes available_size brand_name product_category retailer  \\\n0      Multi    One Size       One Size      AERIE  Bra Accessories    Ae US   \n1      Multi    One Size       One Size      AERIE   Strapless Bras    Ae US   \n2  Dark Nude  A, B, C, D     A, B, C, D      AERIE  Bra Accessories    Ae US   \n3  Dark Nude  A, B, C, D     A, B, C, D      AERIE   Strapless Bras    Ae US   \n4  Dark Nude  A, B, C, D     A, B, C, D      AERIE  Bra Accessories    Ae US   \n\n                                         description  rating  review_count  \\\n0  Quick FixesÂ® Collection: Endless options for ...     NaN           NaN   \n1  Quick FixesÂ® Collection: Endless options for ...     4.0           NaN   \n2  Quick FixesÂ® Collection: Endless options for ...     5.0           NaN   \n3  Quick FixesÂ® Collection: Endless options for ...     5.0           NaN   \n4  Quick FixesÂ® Collection: Endless options for ...     NaN           NaN   \n\n  scrapping_datetime  \n0     25-04-20 13:25  \n1     25-04-20 13:25  \n2     25-04-20 13:25  \n3     25-04-20 13:25  \n4     25-04-20 13:25  ",
      "text/html": "<div>\n<style scoped>\n    .dataframe tbody tr th:only-of-type {\n        vertical-align: middle;\n    }\n\n    .dataframe tbody tr th {\n        vertical-align: top;\n    }\n\n    .dataframe thead th {\n        text-align: right;\n    }\n</style>\n<table border=\"1\" class=\"dataframe\">\n  <thead>\n    <tr style=\"text-align: right;\">\n      <th></th>\n      <th>product_name</th>\n      <th>mrp</th>\n      <th>pdp_url</th>\n      <th>color</th>\n      <th>total_sizes</th>\n      <th>available_size</th>\n      <th>brand_name</th>\n      <th>product_category</th>\n      <th>retailer</th>\n      <th>description</th>\n      <th>rating</th>\n      <th>review_count</th>\n      <th>scrapping_datetime</th>\n    </tr>\n  </thead>\n  <tbody>\n    <tr>\n      <th>0</th>\n      <td>Aerie Adjustable Low-Back Strap</td>\n      <td>15.5</td>\n      <td>Aerie Adjustable Low-Back Strap</td>\n      <td>Multi</td>\n      <td>One Size</td>\n      <td>One Size</td>\n      <td>AERIE</td>\n      <td>Bra Accessories</td>\n      <td>Ae US</td>\n      <td>Quick FixesÂ® Collection: Endless options for ...</td>\n      <td>NaN</td>\n      <td>NaN</td>\n      <td>25-04-20 13:25</td>\n    </tr>\n    <tr>\n      <th>1</th>\n      <td>Aerie Adjustable Low-Back Strap</td>\n      <td>15.5</td>\n      <td>Aerie Adjustable Low-Back Strap</td>\n      <td>Multi</td>\n      <td>One Size</td>\n      <td>One Size</td>\n      <td>AERIE</td>\n      <td>Strapless Bras</td>\n      <td>Ae US</td>\n      <td>Quick FixesÂ® Collection: Endless options for ...</td>\n      <td>4.0</td>\n      <td>NaN</td>\n      <td>25-04-20 13:25</td>\n    </tr>\n    <tr>\n      <th>2</th>\n      <td>Aerie Backless Bare Bra</td>\n      <td>36.5</td>\n      <td>Aerie Backless Bare Bra</td>\n      <td>Dark Nude</td>\n      <td>A, B, C, D</td>\n      <td>A, B, C, D</td>\n      <td>AERIE</td>\n      <td>Bra Accessories</td>\n      <td>Ae US</td>\n      <td>Quick FixesÂ® Collection: Endless options for ...</td>\n      <td>5.0</td>\n      <td>NaN</td>\n      <td>25-04-20 13:25</td>\n    </tr>\n    <tr>\n      <th>3</th>\n      <td>Aerie Backless Bare Bra</td>\n      <td>36.5</td>\n      <td>Aerie Backless Bare Bra</td>\n      <td>Dark Nude</td>\n      <td>A, B, C, D</td>\n      <td>A, B, C, D</td>\n      <td>AERIE</td>\n      <td>Strapless Bras</td>\n      <td>Ae US</td>\n      <td>Quick FixesÂ® Collection: Endless options for ...</td>\n      <td>5.0</td>\n      <td>NaN</td>\n      <td>25-04-20 13:25</td>\n    </tr>\n    <tr>\n      <th>4</th>\n      <td>Aerie Backless Pushup Bare Bra</td>\n      <td>38.5</td>\n      <td>Aerie Backless Pushup Bare Bra</td>\n      <td>Dark Nude</td>\n      <td>A, B, C, D</td>\n      <td>A, B, C, D</td>\n      <td>AERIE</td>\n      <td>Bra Accessories</td>\n      <td>Ae US</td>\n      <td>Quick FixesÂ® Collection: Endless options for ...</td>\n      <td>NaN</td>\n      <td>NaN</td>\n      <td>25-04-20 13:25</td>\n    </tr>\n  </tbody>\n</table>\n</div>"
     },
     "execution_count": 8,
     "metadata": {},
     "output_type": "execute_result"
    }
   ],
   "source": [
    "transactions.head()"
   ],
   "metadata": {
    "collapsed": false,
    "pycharm": {
     "name": "#%%\n"
    }
   }
  },
  {
   "cell_type": "markdown",
   "source": [
    "We save the dataframe for any future issue."
   ],
   "metadata": {
    "collapsed": false,
    "pycharm": {
     "name": "#%% md\n"
    }
   }
  },
  {
   "cell_type": "code",
   "execution_count": 9,
   "outputs": [],
   "source": [
    "transactions.to_csv('src/transactions.csv')"
   ],
   "metadata": {
    "collapsed": false,
    "pycharm": {
     "name": "#%%\n"
    }
   }
  },
  {
   "cell_type": "markdown",
   "source": [
    "### Data Cleansing for size information\n",
    "We'll generate a transactions table with each size and its availability.\n",
    "The following function will count the existence per size of each model"
   ],
   "metadata": {
    "collapsed": false,
    "pycharm": {
     "name": "#%% md\n"
    }
   }
  },
  {
   "cell_type": "code",
   "execution_count": 10,
   "outputs": [],
   "source": [
    "def count_available_sizes(totals, avail):\n",
    "    totals = totals.replace(\" \", \"\").split(\",\")\n",
    "    avail = avail.replace(\" \", \"\").split(\",\")\n",
    "    output = [(size, int(size in avail)) for size in totals]\n",
    "    return output"
   ],
   "metadata": {
    "collapsed": false,
    "pycharm": {
     "name": "#%%\n"
    }
   }
  },
  {
   "cell_type": "markdown",
   "source": [
    "This function generates a list of tuples, each of them consisting of the size and 1 or 0 to indicate if that size is available.\n",
    "We generate the new columns, drop total_size and available_size.\n",
    "After this, we'll explode the list so we can have a unique transaction for the availability of the product per size."
   ],
   "metadata": {
    "collapsed": false,
    "pycharm": {
     "name": "#%% md\n"
    }
   }
  },
  {
   "cell_type": "code",
   "execution_count": 11,
   "outputs": [],
   "source": [
    "transactions['all_sizes'] = transactions.apply(lambda x: count_available_sizes(x['total_sizes'], x['available_size']), axis=1)"
   ],
   "metadata": {
    "collapsed": false,
    "pycharm": {
     "name": "#%%\n"
    }
   }
  },
  {
   "cell_type": "code",
   "execution_count": 12,
   "outputs": [
    {
     "data": {
      "text/plain": "                                      product_name      mrp  \\\n0                  Aerie Adjustable Low-Back Strap     15.5   \n1                  Aerie Adjustable Low-Back Strap     15.5   \n2                          Aerie Backless Bare Bra     36.5   \n3                          Aerie Backless Bare Bra     36.5   \n4                   Aerie Backless Pushup Bare Bra     38.5   \n...                                            ...      ...   \n6072  PINK NEW! Lace Lightly Lined Halter Bralette  474.522   \n6073  PINK NEW! Lace Lightly Lined Halter Bralette  474.522   \n6074  PINK NEW! Lace Lightly Lined Halter Bralette  474.522   \n6075  PINK NEW! Lace Lightly Lined Halter Bralette  474.522   \n6076  PINK NEW! Lace Lightly Lined Halter Bralette  474.522   \n\n                                           pdp_url              color  \\\n0                  Aerie Adjustable Low-Back Strap              Multi   \n1                  Aerie Adjustable Low-Back Strap              Multi   \n2                          Aerie Backless Bare Bra          Dark Nude   \n3                          Aerie Backless Bare Bra          Dark Nude   \n4                   Aerie Backless Pushup Bare Bra          Dark Nude   \n...                                            ...                ...   \n6072  PINK NEW! Lace Lightly Lined Halter Bralette     warm geo print   \n6073  PINK NEW! Lace Lightly Lined Halter Bralette             cocoon   \n6074  PINK NEW! Lace Lightly Lined Halter Bralette  midnight tropical   \n6075  PINK NEW! Lace Lightly Lined Halter Bralette     cool geo print   \n6076  PINK NEW! Lace Lightly Lined Halter Bralette            moonray   \n\n      total_sizes available_size              brand_name  \\\n0        One Size       One Size                   AERIE   \n1        One Size       One Size                   AERIE   \n2      A, B, C, D     A, B, C, D                   AERIE   \n3      A, B, C, D     A, B, C, D                   AERIE   \n4      A, B, C, D     A, B, C, D                   AERIE   \n...           ...            ...                     ...   \n6072  XS, S, M, L             XS  Victoria's Secret Pink   \n6073  XS, S, M, L             XS  Victoria's Secret Pink   \n6074  XS, S, M, L             XS  Victoria's Secret Pink   \n6075  XS, S, M, L             XS  Victoria's Secret Pink   \n6076  XS, S, M, L             XS  Victoria's Secret Pink   \n\n                        product_category            retailer  \\\n0                        Bra Accessories               Ae US   \n1                         Strapless Bras               Ae US   \n2                        Bra Accessories               Ae US   \n3                         Strapless Bras               Ae US   \n4                        Bra Accessories               Ae US   \n...                                  ...                 ...   \n6072  Lace Lightly Lined Halter Bralette  Victoriassecret US   \n6073  Lace Lightly Lined Halter Bralette  Victoriassecret US   \n6074  Lace Lightly Lined Halter Bralette  Victoriassecret US   \n6075  Lace Lightly Lined Halter Bralette  Victoriassecret US   \n6076  Lace Lightly Lined Halter Bralette  Victoriassecret US   \n\n                                            description  rating  review_count  \\\n0     Quick FixesÂ® Collection: Endless options for ...     NaN           NaN   \n1     Quick FixesÂ® Collection: Endless options for ...     4.0           NaN   \n2     Quick FixesÂ® Collection: Endless options for ...     5.0           NaN   \n3     Quick FixesÂ® Collection: Endless options for ...     5.0           NaN   \n4     Quick FixesÂ® Collection: Endless options for ...     NaN           NaN   \n...                                                 ...     ...           ...   \n6072  Made for layering and lounging, this halter br...     4.4          74.0   \n6073  Made for layering and lounging, this halter br...     4.4          74.0   \n6074  Made for layering and lounging, this halter br...     4.4          74.0   \n6075  Made for layering and lounging, this halter br...     4.4          74.0   \n6076  Made for layering and lounging, this halter br...     4.4          74.0   \n\n     scrapping_datetime                          all_sizes  \n0        25-04-20 13:25                     [(OneSize, 1)]  \n1        25-04-20 13:25                     [(OneSize, 1)]  \n2        25-04-20 13:25   [(A, 1), (B, 1), (C, 1), (D, 1)]  \n3        25-04-20 13:25   [(A, 1), (B, 1), (C, 1), (D, 1)]  \n4        25-04-20 13:25   [(A, 1), (B, 1), (C, 1), (D, 1)]  \n...                 ...                                ...  \n6072     26-04-20 19:57  [(XS, 1), (S, 0), (M, 0), (L, 0)]  \n6073     26-04-20 19:57  [(XS, 1), (S, 0), (M, 0), (L, 0)]  \n6074     26-04-20 19:57  [(XS, 1), (S, 0), (M, 0), (L, 0)]  \n6075     26-04-20 19:57  [(XS, 1), (S, 0), (M, 0), (L, 0)]  \n6076     26-04-20 19:57  [(XS, 1), (S, 0), (M, 0), (L, 0)]  \n\n[18671 rows x 14 columns]",
      "text/html": "<div>\n<style scoped>\n    .dataframe tbody tr th:only-of-type {\n        vertical-align: middle;\n    }\n\n    .dataframe tbody tr th {\n        vertical-align: top;\n    }\n\n    .dataframe thead th {\n        text-align: right;\n    }\n</style>\n<table border=\"1\" class=\"dataframe\">\n  <thead>\n    <tr style=\"text-align: right;\">\n      <th></th>\n      <th>product_name</th>\n      <th>mrp</th>\n      <th>pdp_url</th>\n      <th>color</th>\n      <th>total_sizes</th>\n      <th>available_size</th>\n      <th>brand_name</th>\n      <th>product_category</th>\n      <th>retailer</th>\n      <th>description</th>\n      <th>rating</th>\n      <th>review_count</th>\n      <th>scrapping_datetime</th>\n      <th>all_sizes</th>\n    </tr>\n  </thead>\n  <tbody>\n    <tr>\n      <th>0</th>\n      <td>Aerie Adjustable Low-Back Strap</td>\n      <td>15.5</td>\n      <td>Aerie Adjustable Low-Back Strap</td>\n      <td>Multi</td>\n      <td>One Size</td>\n      <td>One Size</td>\n      <td>AERIE</td>\n      <td>Bra Accessories</td>\n      <td>Ae US</td>\n      <td>Quick FixesÂ® Collection: Endless options for ...</td>\n      <td>NaN</td>\n      <td>NaN</td>\n      <td>25-04-20 13:25</td>\n      <td>[(OneSize, 1)]</td>\n    </tr>\n    <tr>\n      <th>1</th>\n      <td>Aerie Adjustable Low-Back Strap</td>\n      <td>15.5</td>\n      <td>Aerie Adjustable Low-Back Strap</td>\n      <td>Multi</td>\n      <td>One Size</td>\n      <td>One Size</td>\n      <td>AERIE</td>\n      <td>Strapless Bras</td>\n      <td>Ae US</td>\n      <td>Quick FixesÂ® Collection: Endless options for ...</td>\n      <td>4.0</td>\n      <td>NaN</td>\n      <td>25-04-20 13:25</td>\n      <td>[(OneSize, 1)]</td>\n    </tr>\n    <tr>\n      <th>2</th>\n      <td>Aerie Backless Bare Bra</td>\n      <td>36.5</td>\n      <td>Aerie Backless Bare Bra</td>\n      <td>Dark Nude</td>\n      <td>A, B, C, D</td>\n      <td>A, B, C, D</td>\n      <td>AERIE</td>\n      <td>Bra Accessories</td>\n      <td>Ae US</td>\n      <td>Quick FixesÂ® Collection: Endless options for ...</td>\n      <td>5.0</td>\n      <td>NaN</td>\n      <td>25-04-20 13:25</td>\n      <td>[(A, 1), (B, 1), (C, 1), (D, 1)]</td>\n    </tr>\n    <tr>\n      <th>3</th>\n      <td>Aerie Backless Bare Bra</td>\n      <td>36.5</td>\n      <td>Aerie Backless Bare Bra</td>\n      <td>Dark Nude</td>\n      <td>A, B, C, D</td>\n      <td>A, B, C, D</td>\n      <td>AERIE</td>\n      <td>Strapless Bras</td>\n      <td>Ae US</td>\n      <td>Quick FixesÂ® Collection: Endless options for ...</td>\n      <td>5.0</td>\n      <td>NaN</td>\n      <td>25-04-20 13:25</td>\n      <td>[(A, 1), (B, 1), (C, 1), (D, 1)]</td>\n    </tr>\n    <tr>\n      <th>4</th>\n      <td>Aerie Backless Pushup Bare Bra</td>\n      <td>38.5</td>\n      <td>Aerie Backless Pushup Bare Bra</td>\n      <td>Dark Nude</td>\n      <td>A, B, C, D</td>\n      <td>A, B, C, D</td>\n      <td>AERIE</td>\n      <td>Bra Accessories</td>\n      <td>Ae US</td>\n      <td>Quick FixesÂ® Collection: Endless options for ...</td>\n      <td>NaN</td>\n      <td>NaN</td>\n      <td>25-04-20 13:25</td>\n      <td>[(A, 1), (B, 1), (C, 1), (D, 1)]</td>\n    </tr>\n    <tr>\n      <th>...</th>\n      <td>...</td>\n      <td>...</td>\n      <td>...</td>\n      <td>...</td>\n      <td>...</td>\n      <td>...</td>\n      <td>...</td>\n      <td>...</td>\n      <td>...</td>\n      <td>...</td>\n      <td>...</td>\n      <td>...</td>\n      <td>...</td>\n      <td>...</td>\n    </tr>\n    <tr>\n      <th>6072</th>\n      <td>PINK NEW! Lace Lightly Lined Halter Bralette</td>\n      <td>474.522</td>\n      <td>PINK NEW! Lace Lightly Lined Halter Bralette</td>\n      <td>warm geo print</td>\n      <td>XS, S, M, L</td>\n      <td>XS</td>\n      <td>Victoria's Secret Pink</td>\n      <td>Lace Lightly Lined Halter Bralette</td>\n      <td>Victoriassecret US</td>\n      <td>Made for layering and lounging, this halter br...</td>\n      <td>4.4</td>\n      <td>74.0</td>\n      <td>26-04-20 19:57</td>\n      <td>[(XS, 1), (S, 0), (M, 0), (L, 0)]</td>\n    </tr>\n    <tr>\n      <th>6073</th>\n      <td>PINK NEW! Lace Lightly Lined Halter Bralette</td>\n      <td>474.522</td>\n      <td>PINK NEW! Lace Lightly Lined Halter Bralette</td>\n      <td>cocoon</td>\n      <td>XS, S, M, L</td>\n      <td>XS</td>\n      <td>Victoria's Secret Pink</td>\n      <td>Lace Lightly Lined Halter Bralette</td>\n      <td>Victoriassecret US</td>\n      <td>Made for layering and lounging, this halter br...</td>\n      <td>4.4</td>\n      <td>74.0</td>\n      <td>26-04-20 19:57</td>\n      <td>[(XS, 1), (S, 0), (M, 0), (L, 0)]</td>\n    </tr>\n    <tr>\n      <th>6074</th>\n      <td>PINK NEW! Lace Lightly Lined Halter Bralette</td>\n      <td>474.522</td>\n      <td>PINK NEW! Lace Lightly Lined Halter Bralette</td>\n      <td>midnight tropical</td>\n      <td>XS, S, M, L</td>\n      <td>XS</td>\n      <td>Victoria's Secret Pink</td>\n      <td>Lace Lightly Lined Halter Bralette</td>\n      <td>Victoriassecret US</td>\n      <td>Made for layering and lounging, this halter br...</td>\n      <td>4.4</td>\n      <td>74.0</td>\n      <td>26-04-20 19:57</td>\n      <td>[(XS, 1), (S, 0), (M, 0), (L, 0)]</td>\n    </tr>\n    <tr>\n      <th>6075</th>\n      <td>PINK NEW! Lace Lightly Lined Halter Bralette</td>\n      <td>474.522</td>\n      <td>PINK NEW! Lace Lightly Lined Halter Bralette</td>\n      <td>cool geo print</td>\n      <td>XS, S, M, L</td>\n      <td>XS</td>\n      <td>Victoria's Secret Pink</td>\n      <td>Lace Lightly Lined Halter Bralette</td>\n      <td>Victoriassecret US</td>\n      <td>Made for layering and lounging, this halter br...</td>\n      <td>4.4</td>\n      <td>74.0</td>\n      <td>26-04-20 19:57</td>\n      <td>[(XS, 1), (S, 0), (M, 0), (L, 0)]</td>\n    </tr>\n    <tr>\n      <th>6076</th>\n      <td>PINK NEW! Lace Lightly Lined Halter Bralette</td>\n      <td>474.522</td>\n      <td>PINK NEW! Lace Lightly Lined Halter Bralette</td>\n      <td>moonray</td>\n      <td>XS, S, M, L</td>\n      <td>XS</td>\n      <td>Victoria's Secret Pink</td>\n      <td>Lace Lightly Lined Halter Bralette</td>\n      <td>Victoriassecret US</td>\n      <td>Made for layering and lounging, this halter br...</td>\n      <td>4.4</td>\n      <td>74.0</td>\n      <td>26-04-20 19:57</td>\n      <td>[(XS, 1), (S, 0), (M, 0), (L, 0)]</td>\n    </tr>\n  </tbody>\n</table>\n<p>18671 rows × 14 columns</p>\n</div>"
     },
     "execution_count": 12,
     "metadata": {},
     "output_type": "execute_result"
    }
   ],
   "source": [
    "transactions"
   ],
   "metadata": {
    "collapsed": false,
    "pycharm": {
     "name": "#%%\n"
    }
   }
  },
  {
   "cell_type": "markdown",
   "source": [
    "Then we can treat each size and its availability as a transaction."
   ],
   "metadata": {
    "collapsed": false,
    "pycharm": {
     "name": "#%% md\n"
    }
   }
  },
  {
   "cell_type": "code",
   "execution_count": 13,
   "outputs": [],
   "source": [
    "transactions = transactions.explode('all_sizes')"
   ],
   "metadata": {
    "collapsed": false,
    "pycharm": {
     "name": "#%%\n"
    }
   }
  },
  {
   "cell_type": "code",
   "execution_count": 14,
   "outputs": [
    {
     "data": {
      "text/plain": "                                      product_name      mrp  \\\n0                  Aerie Adjustable Low-Back Strap     15.5   \n1                  Aerie Adjustable Low-Back Strap     15.5   \n2                          Aerie Backless Bare Bra     36.5   \n2                          Aerie Backless Bare Bra     36.5   \n2                          Aerie Backless Bare Bra     36.5   \n...                                            ...      ...   \n6075  PINK NEW! Lace Lightly Lined Halter Bralette  474.522   \n6076  PINK NEW! Lace Lightly Lined Halter Bralette  474.522   \n6076  PINK NEW! Lace Lightly Lined Halter Bralette  474.522   \n6076  PINK NEW! Lace Lightly Lined Halter Bralette  474.522   \n6076  PINK NEW! Lace Lightly Lined Halter Bralette  474.522   \n\n                                           pdp_url           color  \\\n0                  Aerie Adjustable Low-Back Strap           Multi   \n1                  Aerie Adjustable Low-Back Strap           Multi   \n2                          Aerie Backless Bare Bra       Dark Nude   \n2                          Aerie Backless Bare Bra       Dark Nude   \n2                          Aerie Backless Bare Bra       Dark Nude   \n...                                            ...             ...   \n6075  PINK NEW! Lace Lightly Lined Halter Bralette  cool geo print   \n6076  PINK NEW! Lace Lightly Lined Halter Bralette         moonray   \n6076  PINK NEW! Lace Lightly Lined Halter Bralette         moonray   \n6076  PINK NEW! Lace Lightly Lined Halter Bralette         moonray   \n6076  PINK NEW! Lace Lightly Lined Halter Bralette         moonray   \n\n      total_sizes available_size              brand_name  \\\n0        One Size       One Size                   AERIE   \n1        One Size       One Size                   AERIE   \n2      A, B, C, D     A, B, C, D                   AERIE   \n2      A, B, C, D     A, B, C, D                   AERIE   \n2      A, B, C, D     A, B, C, D                   AERIE   \n...           ...            ...                     ...   \n6075  XS, S, M, L             XS  Victoria's Secret Pink   \n6076  XS, S, M, L             XS  Victoria's Secret Pink   \n6076  XS, S, M, L             XS  Victoria's Secret Pink   \n6076  XS, S, M, L             XS  Victoria's Secret Pink   \n6076  XS, S, M, L             XS  Victoria's Secret Pink   \n\n                        product_category            retailer  \\\n0                        Bra Accessories               Ae US   \n1                         Strapless Bras               Ae US   \n2                        Bra Accessories               Ae US   \n2                        Bra Accessories               Ae US   \n2                        Bra Accessories               Ae US   \n...                                  ...                 ...   \n6075  Lace Lightly Lined Halter Bralette  Victoriassecret US   \n6076  Lace Lightly Lined Halter Bralette  Victoriassecret US   \n6076  Lace Lightly Lined Halter Bralette  Victoriassecret US   \n6076  Lace Lightly Lined Halter Bralette  Victoriassecret US   \n6076  Lace Lightly Lined Halter Bralette  Victoriassecret US   \n\n                                            description  rating  review_count  \\\n0     Quick FixesÂ® Collection: Endless options for ...     NaN           NaN   \n1     Quick FixesÂ® Collection: Endless options for ...     4.0           NaN   \n2     Quick FixesÂ® Collection: Endless options for ...     5.0           NaN   \n2     Quick FixesÂ® Collection: Endless options for ...     5.0           NaN   \n2     Quick FixesÂ® Collection: Endless options for ...     5.0           NaN   \n...                                                 ...     ...           ...   \n6075  Made for layering and lounging, this halter br...     4.4          74.0   \n6076  Made for layering and lounging, this halter br...     4.4          74.0   \n6076  Made for layering and lounging, this halter br...     4.4          74.0   \n6076  Made for layering and lounging, this halter br...     4.4          74.0   \n6076  Made for layering and lounging, this halter br...     4.4          74.0   \n\n     scrapping_datetime     all_sizes  \n0        25-04-20 13:25  (OneSize, 1)  \n1        25-04-20 13:25  (OneSize, 1)  \n2        25-04-20 13:25        (A, 1)  \n2        25-04-20 13:25        (B, 1)  \n2        25-04-20 13:25        (C, 1)  \n...                 ...           ...  \n6075     26-04-20 19:57        (L, 0)  \n6076     26-04-20 19:57       (XS, 1)  \n6076     26-04-20 19:57        (S, 0)  \n6076     26-04-20 19:57        (M, 0)  \n6076     26-04-20 19:57        (L, 0)  \n\n[176693 rows x 14 columns]",
      "text/html": "<div>\n<style scoped>\n    .dataframe tbody tr th:only-of-type {\n        vertical-align: middle;\n    }\n\n    .dataframe tbody tr th {\n        vertical-align: top;\n    }\n\n    .dataframe thead th {\n        text-align: right;\n    }\n</style>\n<table border=\"1\" class=\"dataframe\">\n  <thead>\n    <tr style=\"text-align: right;\">\n      <th></th>\n      <th>product_name</th>\n      <th>mrp</th>\n      <th>pdp_url</th>\n      <th>color</th>\n      <th>total_sizes</th>\n      <th>available_size</th>\n      <th>brand_name</th>\n      <th>product_category</th>\n      <th>retailer</th>\n      <th>description</th>\n      <th>rating</th>\n      <th>review_count</th>\n      <th>scrapping_datetime</th>\n      <th>all_sizes</th>\n    </tr>\n  </thead>\n  <tbody>\n    <tr>\n      <th>0</th>\n      <td>Aerie Adjustable Low-Back Strap</td>\n      <td>15.5</td>\n      <td>Aerie Adjustable Low-Back Strap</td>\n      <td>Multi</td>\n      <td>One Size</td>\n      <td>One Size</td>\n      <td>AERIE</td>\n      <td>Bra Accessories</td>\n      <td>Ae US</td>\n      <td>Quick FixesÂ® Collection: Endless options for ...</td>\n      <td>NaN</td>\n      <td>NaN</td>\n      <td>25-04-20 13:25</td>\n      <td>(OneSize, 1)</td>\n    </tr>\n    <tr>\n      <th>1</th>\n      <td>Aerie Adjustable Low-Back Strap</td>\n      <td>15.5</td>\n      <td>Aerie Adjustable Low-Back Strap</td>\n      <td>Multi</td>\n      <td>One Size</td>\n      <td>One Size</td>\n      <td>AERIE</td>\n      <td>Strapless Bras</td>\n      <td>Ae US</td>\n      <td>Quick FixesÂ® Collection: Endless options for ...</td>\n      <td>4.0</td>\n      <td>NaN</td>\n      <td>25-04-20 13:25</td>\n      <td>(OneSize, 1)</td>\n    </tr>\n    <tr>\n      <th>2</th>\n      <td>Aerie Backless Bare Bra</td>\n      <td>36.5</td>\n      <td>Aerie Backless Bare Bra</td>\n      <td>Dark Nude</td>\n      <td>A, B, C, D</td>\n      <td>A, B, C, D</td>\n      <td>AERIE</td>\n      <td>Bra Accessories</td>\n      <td>Ae US</td>\n      <td>Quick FixesÂ® Collection: Endless options for ...</td>\n      <td>5.0</td>\n      <td>NaN</td>\n      <td>25-04-20 13:25</td>\n      <td>(A, 1)</td>\n    </tr>\n    <tr>\n      <th>2</th>\n      <td>Aerie Backless Bare Bra</td>\n      <td>36.5</td>\n      <td>Aerie Backless Bare Bra</td>\n      <td>Dark Nude</td>\n      <td>A, B, C, D</td>\n      <td>A, B, C, D</td>\n      <td>AERIE</td>\n      <td>Bra Accessories</td>\n      <td>Ae US</td>\n      <td>Quick FixesÂ® Collection: Endless options for ...</td>\n      <td>5.0</td>\n      <td>NaN</td>\n      <td>25-04-20 13:25</td>\n      <td>(B, 1)</td>\n    </tr>\n    <tr>\n      <th>2</th>\n      <td>Aerie Backless Bare Bra</td>\n      <td>36.5</td>\n      <td>Aerie Backless Bare Bra</td>\n      <td>Dark Nude</td>\n      <td>A, B, C, D</td>\n      <td>A, B, C, D</td>\n      <td>AERIE</td>\n      <td>Bra Accessories</td>\n      <td>Ae US</td>\n      <td>Quick FixesÂ® Collection: Endless options for ...</td>\n      <td>5.0</td>\n      <td>NaN</td>\n      <td>25-04-20 13:25</td>\n      <td>(C, 1)</td>\n    </tr>\n    <tr>\n      <th>...</th>\n      <td>...</td>\n      <td>...</td>\n      <td>...</td>\n      <td>...</td>\n      <td>...</td>\n      <td>...</td>\n      <td>...</td>\n      <td>...</td>\n      <td>...</td>\n      <td>...</td>\n      <td>...</td>\n      <td>...</td>\n      <td>...</td>\n      <td>...</td>\n    </tr>\n    <tr>\n      <th>6075</th>\n      <td>PINK NEW! Lace Lightly Lined Halter Bralette</td>\n      <td>474.522</td>\n      <td>PINK NEW! Lace Lightly Lined Halter Bralette</td>\n      <td>cool geo print</td>\n      <td>XS, S, M, L</td>\n      <td>XS</td>\n      <td>Victoria's Secret Pink</td>\n      <td>Lace Lightly Lined Halter Bralette</td>\n      <td>Victoriassecret US</td>\n      <td>Made for layering and lounging, this halter br...</td>\n      <td>4.4</td>\n      <td>74.0</td>\n      <td>26-04-20 19:57</td>\n      <td>(L, 0)</td>\n    </tr>\n    <tr>\n      <th>6076</th>\n      <td>PINK NEW! Lace Lightly Lined Halter Bralette</td>\n      <td>474.522</td>\n      <td>PINK NEW! Lace Lightly Lined Halter Bralette</td>\n      <td>moonray</td>\n      <td>XS, S, M, L</td>\n      <td>XS</td>\n      <td>Victoria's Secret Pink</td>\n      <td>Lace Lightly Lined Halter Bralette</td>\n      <td>Victoriassecret US</td>\n      <td>Made for layering and lounging, this halter br...</td>\n      <td>4.4</td>\n      <td>74.0</td>\n      <td>26-04-20 19:57</td>\n      <td>(XS, 1)</td>\n    </tr>\n    <tr>\n      <th>6076</th>\n      <td>PINK NEW! Lace Lightly Lined Halter Bralette</td>\n      <td>474.522</td>\n      <td>PINK NEW! Lace Lightly Lined Halter Bralette</td>\n      <td>moonray</td>\n      <td>XS, S, M, L</td>\n      <td>XS</td>\n      <td>Victoria's Secret Pink</td>\n      <td>Lace Lightly Lined Halter Bralette</td>\n      <td>Victoriassecret US</td>\n      <td>Made for layering and lounging, this halter br...</td>\n      <td>4.4</td>\n      <td>74.0</td>\n      <td>26-04-20 19:57</td>\n      <td>(S, 0)</td>\n    </tr>\n    <tr>\n      <th>6076</th>\n      <td>PINK NEW! Lace Lightly Lined Halter Bralette</td>\n      <td>474.522</td>\n      <td>PINK NEW! Lace Lightly Lined Halter Bralette</td>\n      <td>moonray</td>\n      <td>XS, S, M, L</td>\n      <td>XS</td>\n      <td>Victoria's Secret Pink</td>\n      <td>Lace Lightly Lined Halter Bralette</td>\n      <td>Victoriassecret US</td>\n      <td>Made for layering and lounging, this halter br...</td>\n      <td>4.4</td>\n      <td>74.0</td>\n      <td>26-04-20 19:57</td>\n      <td>(M, 0)</td>\n    </tr>\n    <tr>\n      <th>6076</th>\n      <td>PINK NEW! Lace Lightly Lined Halter Bralette</td>\n      <td>474.522</td>\n      <td>PINK NEW! Lace Lightly Lined Halter Bralette</td>\n      <td>moonray</td>\n      <td>XS, S, M, L</td>\n      <td>XS</td>\n      <td>Victoria's Secret Pink</td>\n      <td>Lace Lightly Lined Halter Bralette</td>\n      <td>Victoriassecret US</td>\n      <td>Made for layering and lounging, this halter br...</td>\n      <td>4.4</td>\n      <td>74.0</td>\n      <td>26-04-20 19:57</td>\n      <td>(L, 0)</td>\n    </tr>\n  </tbody>\n</table>\n<p>176693 rows × 14 columns</p>\n</div>"
     },
     "execution_count": 14,
     "metadata": {},
     "output_type": "execute_result"
    }
   ],
   "source": [
    "transactions"
   ],
   "metadata": {
    "collapsed": false,
    "pycharm": {
     "name": "#%%\n"
    }
   }
  },
  {
   "cell_type": "markdown",
   "source": [
    "We then proceed to split the tuple into size (dimension) and availability (metric)"
   ],
   "metadata": {
    "collapsed": false,
    "pycharm": {
     "name": "#%% md\n"
    }
   }
  },
  {
   "cell_type": "code",
   "execution_count": 15,
   "outputs": [],
   "source": [
    "transactions[['size', 'availability']] = transactions['all_sizes'].apply(lambda x: pd.Series({'size': x[0], 'availability': x[1]}))"
   ],
   "metadata": {
    "collapsed": false,
    "pycharm": {
     "name": "#%%\n"
    }
   }
  },
  {
   "cell_type": "code",
   "execution_count": 16,
   "outputs": [
    {
     "data": {
      "text/plain": "                                      product_name      mrp  \\\n0                  Aerie Adjustable Low-Back Strap     15.5   \n1                  Aerie Adjustable Low-Back Strap     15.5   \n2                          Aerie Backless Bare Bra     36.5   \n2                          Aerie Backless Bare Bra     36.5   \n2                          Aerie Backless Bare Bra     36.5   \n...                                            ...      ...   \n6075  PINK NEW! Lace Lightly Lined Halter Bralette  474.522   \n6076  PINK NEW! Lace Lightly Lined Halter Bralette  474.522   \n6076  PINK NEW! Lace Lightly Lined Halter Bralette  474.522   \n6076  PINK NEW! Lace Lightly Lined Halter Bralette  474.522   \n6076  PINK NEW! Lace Lightly Lined Halter Bralette  474.522   \n\n                                           pdp_url           color  \\\n0                  Aerie Adjustable Low-Back Strap           Multi   \n1                  Aerie Adjustable Low-Back Strap           Multi   \n2                          Aerie Backless Bare Bra       Dark Nude   \n2                          Aerie Backless Bare Bra       Dark Nude   \n2                          Aerie Backless Bare Bra       Dark Nude   \n...                                            ...             ...   \n6075  PINK NEW! Lace Lightly Lined Halter Bralette  cool geo print   \n6076  PINK NEW! Lace Lightly Lined Halter Bralette         moonray   \n6076  PINK NEW! Lace Lightly Lined Halter Bralette         moonray   \n6076  PINK NEW! Lace Lightly Lined Halter Bralette         moonray   \n6076  PINK NEW! Lace Lightly Lined Halter Bralette         moonray   \n\n      total_sizes available_size              brand_name  \\\n0        One Size       One Size                   AERIE   \n1        One Size       One Size                   AERIE   \n2      A, B, C, D     A, B, C, D                   AERIE   \n2      A, B, C, D     A, B, C, D                   AERIE   \n2      A, B, C, D     A, B, C, D                   AERIE   \n...           ...            ...                     ...   \n6075  XS, S, M, L             XS  Victoria's Secret Pink   \n6076  XS, S, M, L             XS  Victoria's Secret Pink   \n6076  XS, S, M, L             XS  Victoria's Secret Pink   \n6076  XS, S, M, L             XS  Victoria's Secret Pink   \n6076  XS, S, M, L             XS  Victoria's Secret Pink   \n\n                        product_category            retailer  \\\n0                        Bra Accessories               Ae US   \n1                         Strapless Bras               Ae US   \n2                        Bra Accessories               Ae US   \n2                        Bra Accessories               Ae US   \n2                        Bra Accessories               Ae US   \n...                                  ...                 ...   \n6075  Lace Lightly Lined Halter Bralette  Victoriassecret US   \n6076  Lace Lightly Lined Halter Bralette  Victoriassecret US   \n6076  Lace Lightly Lined Halter Bralette  Victoriassecret US   \n6076  Lace Lightly Lined Halter Bralette  Victoriassecret US   \n6076  Lace Lightly Lined Halter Bralette  Victoriassecret US   \n\n                                            description  rating  review_count  \\\n0     Quick FixesÂ® Collection: Endless options for ...     NaN           NaN   \n1     Quick FixesÂ® Collection: Endless options for ...     4.0           NaN   \n2     Quick FixesÂ® Collection: Endless options for ...     5.0           NaN   \n2     Quick FixesÂ® Collection: Endless options for ...     5.0           NaN   \n2     Quick FixesÂ® Collection: Endless options for ...     5.0           NaN   \n...                                                 ...     ...           ...   \n6075  Made for layering and lounging, this halter br...     4.4          74.0   \n6076  Made for layering and lounging, this halter br...     4.4          74.0   \n6076  Made for layering and lounging, this halter br...     4.4          74.0   \n6076  Made for layering and lounging, this halter br...     4.4          74.0   \n6076  Made for layering and lounging, this halter br...     4.4          74.0   \n\n     scrapping_datetime     all_sizes     size  availability  \n0        25-04-20 13:25  (OneSize, 1)  OneSize             1  \n1        25-04-20 13:25  (OneSize, 1)  OneSize             1  \n2        25-04-20 13:25        (A, 1)        A             1  \n2        25-04-20 13:25        (B, 1)        B             1  \n2        25-04-20 13:25        (C, 1)        C             1  \n...                 ...           ...      ...           ...  \n6075     26-04-20 19:57        (L, 0)        L             0  \n6076     26-04-20 19:57       (XS, 1)       XS             1  \n6076     26-04-20 19:57        (S, 0)        S             0  \n6076     26-04-20 19:57        (M, 0)        M             0  \n6076     26-04-20 19:57        (L, 0)        L             0  \n\n[176693 rows x 16 columns]",
      "text/html": "<div>\n<style scoped>\n    .dataframe tbody tr th:only-of-type {\n        vertical-align: middle;\n    }\n\n    .dataframe tbody tr th {\n        vertical-align: top;\n    }\n\n    .dataframe thead th {\n        text-align: right;\n    }\n</style>\n<table border=\"1\" class=\"dataframe\">\n  <thead>\n    <tr style=\"text-align: right;\">\n      <th></th>\n      <th>product_name</th>\n      <th>mrp</th>\n      <th>pdp_url</th>\n      <th>color</th>\n      <th>total_sizes</th>\n      <th>available_size</th>\n      <th>brand_name</th>\n      <th>product_category</th>\n      <th>retailer</th>\n      <th>description</th>\n      <th>rating</th>\n      <th>review_count</th>\n      <th>scrapping_datetime</th>\n      <th>all_sizes</th>\n      <th>size</th>\n      <th>availability</th>\n    </tr>\n  </thead>\n  <tbody>\n    <tr>\n      <th>0</th>\n      <td>Aerie Adjustable Low-Back Strap</td>\n      <td>15.5</td>\n      <td>Aerie Adjustable Low-Back Strap</td>\n      <td>Multi</td>\n      <td>One Size</td>\n      <td>One Size</td>\n      <td>AERIE</td>\n      <td>Bra Accessories</td>\n      <td>Ae US</td>\n      <td>Quick FixesÂ® Collection: Endless options for ...</td>\n      <td>NaN</td>\n      <td>NaN</td>\n      <td>25-04-20 13:25</td>\n      <td>(OneSize, 1)</td>\n      <td>OneSize</td>\n      <td>1</td>\n    </tr>\n    <tr>\n      <th>1</th>\n      <td>Aerie Adjustable Low-Back Strap</td>\n      <td>15.5</td>\n      <td>Aerie Adjustable Low-Back Strap</td>\n      <td>Multi</td>\n      <td>One Size</td>\n      <td>One Size</td>\n      <td>AERIE</td>\n      <td>Strapless Bras</td>\n      <td>Ae US</td>\n      <td>Quick FixesÂ® Collection: Endless options for ...</td>\n      <td>4.0</td>\n      <td>NaN</td>\n      <td>25-04-20 13:25</td>\n      <td>(OneSize, 1)</td>\n      <td>OneSize</td>\n      <td>1</td>\n    </tr>\n    <tr>\n      <th>2</th>\n      <td>Aerie Backless Bare Bra</td>\n      <td>36.5</td>\n      <td>Aerie Backless Bare Bra</td>\n      <td>Dark Nude</td>\n      <td>A, B, C, D</td>\n      <td>A, B, C, D</td>\n      <td>AERIE</td>\n      <td>Bra Accessories</td>\n      <td>Ae US</td>\n      <td>Quick FixesÂ® Collection: Endless options for ...</td>\n      <td>5.0</td>\n      <td>NaN</td>\n      <td>25-04-20 13:25</td>\n      <td>(A, 1)</td>\n      <td>A</td>\n      <td>1</td>\n    </tr>\n    <tr>\n      <th>2</th>\n      <td>Aerie Backless Bare Bra</td>\n      <td>36.5</td>\n      <td>Aerie Backless Bare Bra</td>\n      <td>Dark Nude</td>\n      <td>A, B, C, D</td>\n      <td>A, B, C, D</td>\n      <td>AERIE</td>\n      <td>Bra Accessories</td>\n      <td>Ae US</td>\n      <td>Quick FixesÂ® Collection: Endless options for ...</td>\n      <td>5.0</td>\n      <td>NaN</td>\n      <td>25-04-20 13:25</td>\n      <td>(B, 1)</td>\n      <td>B</td>\n      <td>1</td>\n    </tr>\n    <tr>\n      <th>2</th>\n      <td>Aerie Backless Bare Bra</td>\n      <td>36.5</td>\n      <td>Aerie Backless Bare Bra</td>\n      <td>Dark Nude</td>\n      <td>A, B, C, D</td>\n      <td>A, B, C, D</td>\n      <td>AERIE</td>\n      <td>Bra Accessories</td>\n      <td>Ae US</td>\n      <td>Quick FixesÂ® Collection: Endless options for ...</td>\n      <td>5.0</td>\n      <td>NaN</td>\n      <td>25-04-20 13:25</td>\n      <td>(C, 1)</td>\n      <td>C</td>\n      <td>1</td>\n    </tr>\n    <tr>\n      <th>...</th>\n      <td>...</td>\n      <td>...</td>\n      <td>...</td>\n      <td>...</td>\n      <td>...</td>\n      <td>...</td>\n      <td>...</td>\n      <td>...</td>\n      <td>...</td>\n      <td>...</td>\n      <td>...</td>\n      <td>...</td>\n      <td>...</td>\n      <td>...</td>\n      <td>...</td>\n      <td>...</td>\n    </tr>\n    <tr>\n      <th>6075</th>\n      <td>PINK NEW! Lace Lightly Lined Halter Bralette</td>\n      <td>474.522</td>\n      <td>PINK NEW! Lace Lightly Lined Halter Bralette</td>\n      <td>cool geo print</td>\n      <td>XS, S, M, L</td>\n      <td>XS</td>\n      <td>Victoria's Secret Pink</td>\n      <td>Lace Lightly Lined Halter Bralette</td>\n      <td>Victoriassecret US</td>\n      <td>Made for layering and lounging, this halter br...</td>\n      <td>4.4</td>\n      <td>74.0</td>\n      <td>26-04-20 19:57</td>\n      <td>(L, 0)</td>\n      <td>L</td>\n      <td>0</td>\n    </tr>\n    <tr>\n      <th>6076</th>\n      <td>PINK NEW! Lace Lightly Lined Halter Bralette</td>\n      <td>474.522</td>\n      <td>PINK NEW! Lace Lightly Lined Halter Bralette</td>\n      <td>moonray</td>\n      <td>XS, S, M, L</td>\n      <td>XS</td>\n      <td>Victoria's Secret Pink</td>\n      <td>Lace Lightly Lined Halter Bralette</td>\n      <td>Victoriassecret US</td>\n      <td>Made for layering and lounging, this halter br...</td>\n      <td>4.4</td>\n      <td>74.0</td>\n      <td>26-04-20 19:57</td>\n      <td>(XS, 1)</td>\n      <td>XS</td>\n      <td>1</td>\n    </tr>\n    <tr>\n      <th>6076</th>\n      <td>PINK NEW! Lace Lightly Lined Halter Bralette</td>\n      <td>474.522</td>\n      <td>PINK NEW! Lace Lightly Lined Halter Bralette</td>\n      <td>moonray</td>\n      <td>XS, S, M, L</td>\n      <td>XS</td>\n      <td>Victoria's Secret Pink</td>\n      <td>Lace Lightly Lined Halter Bralette</td>\n      <td>Victoriassecret US</td>\n      <td>Made for layering and lounging, this halter br...</td>\n      <td>4.4</td>\n      <td>74.0</td>\n      <td>26-04-20 19:57</td>\n      <td>(S, 0)</td>\n      <td>S</td>\n      <td>0</td>\n    </tr>\n    <tr>\n      <th>6076</th>\n      <td>PINK NEW! Lace Lightly Lined Halter Bralette</td>\n      <td>474.522</td>\n      <td>PINK NEW! Lace Lightly Lined Halter Bralette</td>\n      <td>moonray</td>\n      <td>XS, S, M, L</td>\n      <td>XS</td>\n      <td>Victoria's Secret Pink</td>\n      <td>Lace Lightly Lined Halter Bralette</td>\n      <td>Victoriassecret US</td>\n      <td>Made for layering and lounging, this halter br...</td>\n      <td>4.4</td>\n      <td>74.0</td>\n      <td>26-04-20 19:57</td>\n      <td>(M, 0)</td>\n      <td>M</td>\n      <td>0</td>\n    </tr>\n    <tr>\n      <th>6076</th>\n      <td>PINK NEW! Lace Lightly Lined Halter Bralette</td>\n      <td>474.522</td>\n      <td>PINK NEW! Lace Lightly Lined Halter Bralette</td>\n      <td>moonray</td>\n      <td>XS, S, M, L</td>\n      <td>XS</td>\n      <td>Victoria's Secret Pink</td>\n      <td>Lace Lightly Lined Halter Bralette</td>\n      <td>Victoriassecret US</td>\n      <td>Made for layering and lounging, this halter br...</td>\n      <td>4.4</td>\n      <td>74.0</td>\n      <td>26-04-20 19:57</td>\n      <td>(L, 0)</td>\n      <td>L</td>\n      <td>0</td>\n    </tr>\n  </tbody>\n</table>\n<p>176693 rows × 16 columns</p>\n</div>"
     },
     "execution_count": 16,
     "metadata": {},
     "output_type": "execute_result"
    }
   ],
   "source": [
    "transactions"
   ],
   "metadata": {
    "collapsed": false,
    "pycharm": {
     "name": "#%%\n"
    }
   }
  },
  {
   "cell_type": "markdown",
   "source": [
    "We can drop now the columns that we're not using anymore:\n",
    "1. total_sizes\n",
    "2. available_size\n",
    "3. all_sizes"
   ],
   "metadata": {
    "collapsed": false,
    "pycharm": {
     "name": "#%% md\n"
    }
   }
  },
  {
   "cell_type": "code",
   "execution_count": 18,
   "outputs": [
    {
     "ename": "KeyError",
     "evalue": "\"['total_sizes', 'available_size', 'all_sizes'] not found in axis\"",
     "output_type": "error",
     "traceback": [
      "\u001B[0;31m---------------------------------------------------------------------------\u001B[0m",
      "\u001B[0;31mKeyError\u001B[0m                                  Traceback (most recent call last)",
      "Cell \u001B[0;32mIn[18], line 1\u001B[0m\n\u001B[0;32m----> 1\u001B[0m transactions \u001B[38;5;241m=\u001B[39m transactions\u001B[38;5;241m.\u001B[39mdrop(columns\u001B[38;5;241m=\u001B[39m[\u001B[38;5;124m'\u001B[39m\u001B[38;5;124mtotal_sizes\u001B[39m\u001B[38;5;124m'\u001B[39m,\u001B[38;5;124m'\u001B[39m\u001B[38;5;124mavailable_size\u001B[39m\u001B[38;5;124m'\u001B[39m,\u001B[38;5;124m'\u001B[39m\u001B[38;5;124mall_sizes\u001B[39m\u001B[38;5;124m'\u001B[39m])\n",
      "File \u001B[0;32m~/opt/anaconda3/envs/bi-etl/lib/python3.11/site-packages/pandas/util/_decorators.py:331\u001B[0m, in \u001B[0;36mdeprecate_nonkeyword_arguments.<locals>.decorate.<locals>.wrapper\u001B[0;34m(*args, **kwargs)\u001B[0m\n\u001B[1;32m    325\u001B[0m \u001B[38;5;28;01mif\u001B[39;00m \u001B[38;5;28mlen\u001B[39m(args) \u001B[38;5;241m>\u001B[39m num_allow_args:\n\u001B[1;32m    326\u001B[0m     warnings\u001B[38;5;241m.\u001B[39mwarn(\n\u001B[1;32m    327\u001B[0m         msg\u001B[38;5;241m.\u001B[39mformat(arguments\u001B[38;5;241m=\u001B[39m_format_argument_list(allow_args)),\n\u001B[1;32m    328\u001B[0m         \u001B[38;5;167;01mFutureWarning\u001B[39;00m,\n\u001B[1;32m    329\u001B[0m         stacklevel\u001B[38;5;241m=\u001B[39mfind_stack_level(),\n\u001B[1;32m    330\u001B[0m     )\n\u001B[0;32m--> 331\u001B[0m \u001B[38;5;28;01mreturn\u001B[39;00m func(\u001B[38;5;241m*\u001B[39margs, \u001B[38;5;241m*\u001B[39m\u001B[38;5;241m*\u001B[39mkwargs)\n",
      "File \u001B[0;32m~/opt/anaconda3/envs/bi-etl/lib/python3.11/site-packages/pandas/core/frame.py:5399\u001B[0m, in \u001B[0;36mDataFrame.drop\u001B[0;34m(self, labels, axis, index, columns, level, inplace, errors)\u001B[0m\n\u001B[1;32m   5251\u001B[0m \u001B[38;5;129m@deprecate_nonkeyword_arguments\u001B[39m(version\u001B[38;5;241m=\u001B[39m\u001B[38;5;28;01mNone\u001B[39;00m, allowed_args\u001B[38;5;241m=\u001B[39m[\u001B[38;5;124m\"\u001B[39m\u001B[38;5;124mself\u001B[39m\u001B[38;5;124m\"\u001B[39m, \u001B[38;5;124m\"\u001B[39m\u001B[38;5;124mlabels\u001B[39m\u001B[38;5;124m\"\u001B[39m])\n\u001B[1;32m   5252\u001B[0m \u001B[38;5;28;01mdef\u001B[39;00m \u001B[38;5;21mdrop\u001B[39m(  \u001B[38;5;66;03m# type: ignore[override]\u001B[39;00m\n\u001B[1;32m   5253\u001B[0m     \u001B[38;5;28mself\u001B[39m,\n\u001B[0;32m   (...)\u001B[0m\n\u001B[1;32m   5260\u001B[0m     errors: IgnoreRaise \u001B[38;5;241m=\u001B[39m \u001B[38;5;124m\"\u001B[39m\u001B[38;5;124mraise\u001B[39m\u001B[38;5;124m\"\u001B[39m,\n\u001B[1;32m   5261\u001B[0m ) \u001B[38;5;241m-\u001B[39m\u001B[38;5;241m>\u001B[39m DataFrame \u001B[38;5;241m|\u001B[39m \u001B[38;5;28;01mNone\u001B[39;00m:\n\u001B[1;32m   5262\u001B[0m     \u001B[38;5;124;03m\"\"\"\u001B[39;00m\n\u001B[1;32m   5263\u001B[0m \u001B[38;5;124;03m    Drop specified labels from rows or columns.\u001B[39;00m\n\u001B[1;32m   5264\u001B[0m \n\u001B[0;32m   (...)\u001B[0m\n\u001B[1;32m   5397\u001B[0m \u001B[38;5;124;03m            weight  1.0     0.8\u001B[39;00m\n\u001B[1;32m   5398\u001B[0m \u001B[38;5;124;03m    \"\"\"\u001B[39;00m\n\u001B[0;32m-> 5399\u001B[0m     \u001B[38;5;28;01mreturn\u001B[39;00m \u001B[38;5;28msuper\u001B[39m()\u001B[38;5;241m.\u001B[39mdrop(\n\u001B[1;32m   5400\u001B[0m         labels\u001B[38;5;241m=\u001B[39mlabels,\n\u001B[1;32m   5401\u001B[0m         axis\u001B[38;5;241m=\u001B[39maxis,\n\u001B[1;32m   5402\u001B[0m         index\u001B[38;5;241m=\u001B[39mindex,\n\u001B[1;32m   5403\u001B[0m         columns\u001B[38;5;241m=\u001B[39mcolumns,\n\u001B[1;32m   5404\u001B[0m         level\u001B[38;5;241m=\u001B[39mlevel,\n\u001B[1;32m   5405\u001B[0m         inplace\u001B[38;5;241m=\u001B[39minplace,\n\u001B[1;32m   5406\u001B[0m         errors\u001B[38;5;241m=\u001B[39merrors,\n\u001B[1;32m   5407\u001B[0m     )\n",
      "File \u001B[0;32m~/opt/anaconda3/envs/bi-etl/lib/python3.11/site-packages/pandas/util/_decorators.py:331\u001B[0m, in \u001B[0;36mdeprecate_nonkeyword_arguments.<locals>.decorate.<locals>.wrapper\u001B[0;34m(*args, **kwargs)\u001B[0m\n\u001B[1;32m    325\u001B[0m \u001B[38;5;28;01mif\u001B[39;00m \u001B[38;5;28mlen\u001B[39m(args) \u001B[38;5;241m>\u001B[39m num_allow_args:\n\u001B[1;32m    326\u001B[0m     warnings\u001B[38;5;241m.\u001B[39mwarn(\n\u001B[1;32m    327\u001B[0m         msg\u001B[38;5;241m.\u001B[39mformat(arguments\u001B[38;5;241m=\u001B[39m_format_argument_list(allow_args)),\n\u001B[1;32m    328\u001B[0m         \u001B[38;5;167;01mFutureWarning\u001B[39;00m,\n\u001B[1;32m    329\u001B[0m         stacklevel\u001B[38;5;241m=\u001B[39mfind_stack_level(),\n\u001B[1;32m    330\u001B[0m     )\n\u001B[0;32m--> 331\u001B[0m \u001B[38;5;28;01mreturn\u001B[39;00m func(\u001B[38;5;241m*\u001B[39margs, \u001B[38;5;241m*\u001B[39m\u001B[38;5;241m*\u001B[39mkwargs)\n",
      "File \u001B[0;32m~/opt/anaconda3/envs/bi-etl/lib/python3.11/site-packages/pandas/core/generic.py:4505\u001B[0m, in \u001B[0;36mNDFrame.drop\u001B[0;34m(self, labels, axis, index, columns, level, inplace, errors)\u001B[0m\n\u001B[1;32m   4503\u001B[0m \u001B[38;5;28;01mfor\u001B[39;00m axis, labels \u001B[38;5;129;01min\u001B[39;00m axes\u001B[38;5;241m.\u001B[39mitems():\n\u001B[1;32m   4504\u001B[0m     \u001B[38;5;28;01mif\u001B[39;00m labels \u001B[38;5;129;01mis\u001B[39;00m \u001B[38;5;129;01mnot\u001B[39;00m \u001B[38;5;28;01mNone\u001B[39;00m:\n\u001B[0;32m-> 4505\u001B[0m         obj \u001B[38;5;241m=\u001B[39m obj\u001B[38;5;241m.\u001B[39m_drop_axis(labels, axis, level\u001B[38;5;241m=\u001B[39mlevel, errors\u001B[38;5;241m=\u001B[39merrors)\n\u001B[1;32m   4507\u001B[0m \u001B[38;5;28;01mif\u001B[39;00m inplace:\n\u001B[1;32m   4508\u001B[0m     \u001B[38;5;28mself\u001B[39m\u001B[38;5;241m.\u001B[39m_update_inplace(obj)\n",
      "File \u001B[0;32m~/opt/anaconda3/envs/bi-etl/lib/python3.11/site-packages/pandas/core/generic.py:4546\u001B[0m, in \u001B[0;36mNDFrame._drop_axis\u001B[0;34m(self, labels, axis, level, errors, only_slice)\u001B[0m\n\u001B[1;32m   4544\u001B[0m         new_axis \u001B[38;5;241m=\u001B[39m axis\u001B[38;5;241m.\u001B[39mdrop(labels, level\u001B[38;5;241m=\u001B[39mlevel, errors\u001B[38;5;241m=\u001B[39merrors)\n\u001B[1;32m   4545\u001B[0m     \u001B[38;5;28;01melse\u001B[39;00m:\n\u001B[0;32m-> 4546\u001B[0m         new_axis \u001B[38;5;241m=\u001B[39m axis\u001B[38;5;241m.\u001B[39mdrop(labels, errors\u001B[38;5;241m=\u001B[39merrors)\n\u001B[1;32m   4547\u001B[0m     indexer \u001B[38;5;241m=\u001B[39m axis\u001B[38;5;241m.\u001B[39mget_indexer(new_axis)\n\u001B[1;32m   4549\u001B[0m \u001B[38;5;66;03m# Case for non-unique axis\u001B[39;00m\n\u001B[1;32m   4550\u001B[0m \u001B[38;5;28;01melse\u001B[39;00m:\n",
      "File \u001B[0;32m~/opt/anaconda3/envs/bi-etl/lib/python3.11/site-packages/pandas/core/indexes/base.py:6934\u001B[0m, in \u001B[0;36mIndex.drop\u001B[0;34m(self, labels, errors)\u001B[0m\n\u001B[1;32m   6932\u001B[0m \u001B[38;5;28;01mif\u001B[39;00m mask\u001B[38;5;241m.\u001B[39many():\n\u001B[1;32m   6933\u001B[0m     \u001B[38;5;28;01mif\u001B[39;00m errors \u001B[38;5;241m!=\u001B[39m \u001B[38;5;124m\"\u001B[39m\u001B[38;5;124mignore\u001B[39m\u001B[38;5;124m\"\u001B[39m:\n\u001B[0;32m-> 6934\u001B[0m         \u001B[38;5;28;01mraise\u001B[39;00m \u001B[38;5;167;01mKeyError\u001B[39;00m(\u001B[38;5;124mf\u001B[39m\u001B[38;5;124m\"\u001B[39m\u001B[38;5;132;01m{\u001B[39;00m\u001B[38;5;28mlist\u001B[39m(labels[mask])\u001B[38;5;132;01m}\u001B[39;00m\u001B[38;5;124m not found in axis\u001B[39m\u001B[38;5;124m\"\u001B[39m)\n\u001B[1;32m   6935\u001B[0m     indexer \u001B[38;5;241m=\u001B[39m indexer[\u001B[38;5;241m~\u001B[39mmask]\n\u001B[1;32m   6936\u001B[0m \u001B[38;5;28;01mreturn\u001B[39;00m \u001B[38;5;28mself\u001B[39m\u001B[38;5;241m.\u001B[39mdelete(indexer)\n",
      "\u001B[0;31mKeyError\u001B[0m: \"['total_sizes', 'available_size', 'all_sizes'] not found in axis\""
     ]
    }
   ],
   "source": [
    "transactions = transactions.drop(columns=['total_sizes','available_size','all_sizes'])"
   ],
   "metadata": {
    "collapsed": false,
    "pycharm": {
     "name": "#%%\n"
    }
   }
  },
  {
   "cell_type": "code",
   "execution_count": 20,
   "outputs": [
    {
     "data": {
      "text/plain": "Index(['product_name', 'mrp', 'pdp_url', 'color', 'brand_name',\n       'product_category', 'retailer', 'description', 'rating', 'review_count',\n       'scrapping_datetime', 'size', 'availability'],\n      dtype='object')"
     },
     "execution_count": 20,
     "metadata": {},
     "output_type": "execute_result"
    }
   ],
   "source": [
    "transactions.columns"
   ],
   "metadata": {
    "collapsed": false,
    "pycharm": {
     "name": "#%%\n"
    }
   }
  },
  {
   "cell_type": "code",
   "execution_count": 21,
   "outputs": [
    {
     "data": {
      "text/plain": "(176693, 13)"
     },
     "execution_count": 21,
     "metadata": {},
     "output_type": "execute_result"
    }
   ],
   "source": [
    "transactions.shape"
   ],
   "metadata": {
    "collapsed": false,
    "pycharm": {
     "name": "#%%\n"
    }
   }
  },
  {
   "cell_type": "markdown",
   "source": [
    "Now we can add the size group it belongs to; first we'll focus on the rules shared by business.\n",
    "\n",
    "1. The type of innerwear may be identified for the structure of the size:\n",
    "  * [S, M, L, XL, XXL,...] are not bras. These sizes are related to bikinis, panties or tops.\n",
    "  * [6,7,8,9,...] are not bras. They are related to boypants, briefs, thongs, knickers, and other below-navel items.\n",
    "  * [A,B,C,D,...] are not considered bras. These sizes are related to adhesive silicone bras.\n",
    "  * [1X, 2X, 3X,...] are considered bras. They include body, dresses and chest-related items for big sizes.\n",
    "  * [34A, 36B, 40D, 36A/B, 36G(4D),...] are considered bras. These are the most common size structures for bras in which the number describes the underbust size and the letter is related to the bust size.\n",
    "2. According to the size, the bras are categorized into 4 size groups:\n",
    "  * “Small” = Underbust sizes in the group: [30,32]\n",
    "  * “Medium” = Underbust sizes in the group: [34,36]\n",
    "  * “Large” = Underbust sizes in the group: [38,40]\n",
    "  * “Extra Large” = Underbust sizes in the group: [42,44,46] and sizes with the structure [1X, 2X, 3X,...]\n",
    "\n",
    "We'll generate with regex the column that will handle the size group for our bras, since we don't have a lot of detail for the other categories we'll fill them with null values.\n",
    "After that we'll create a new column called \"main_category\" to divide 'bra' and 'others'. And after that we'll assign the sizes for the other items."
   ],
   "metadata": {
    "collapsed": false,
    "pycharm": {
     "name": "#%% md\n"
    }
   }
  },
  {
   "cell_type": "code",
   "execution_count": 22,
   "outputs": [],
   "source": [
    "def size_group(size):\n",
    "    size = str(size)\n",
    "    if re.search(r'^[1-9]X',size):\n",
    "        return 'Extra Large'\n",
    "    elif re.search(r'\\d{2}[A-Z]',size) or re.search(r'\\d{2}[A-Z]\\(\\d+[A-Z]{2}\\)',size):\n",
    "        num_part = int(size[:2])\n",
    "        if num_part in [30, 32]:\n",
    "            return 'Small'\n",
    "        elif num_part in [34, 36]:\n",
    "            return 'Medium'\n",
    "        elif num_part in [38, 40]:\n",
    "            return 'Large'\n",
    "        elif num_part in [42, 44, 46]:\n",
    "            return 'Extra Large'\n",
    "    else:\n",
    "        return None"
   ],
   "metadata": {
    "collapsed": false,
    "pycharm": {
     "name": "#%%\n"
    }
   }
  },
  {
   "cell_type": "code",
   "execution_count": 23,
   "outputs": [],
   "source": [
    "transactions['size_group'] = transactions.apply(lambda x: size_group(x['size']), axis=1)"
   ],
   "metadata": {
    "collapsed": false,
    "pycharm": {
     "name": "#%%\n"
    }
   }
  },
  {
   "cell_type": "code",
   "execution_count": 24,
   "outputs": [
    {
     "data": {
      "text/plain": "                      product_name   mrp                          pdp_url  \\\n0  Aerie Adjustable Low-Back Strap  15.5  Aerie Adjustable Low-Back Strap   \n1  Aerie Adjustable Low-Back Strap  15.5  Aerie Adjustable Low-Back Strap   \n2          Aerie Backless Bare Bra  36.5          Aerie Backless Bare Bra   \n2          Aerie Backless Bare Bra  36.5          Aerie Backless Bare Bra   \n\n       color brand_name product_category retailer  \\\n0      Multi      AERIE  Bra Accessories    Ae US   \n1      Multi      AERIE   Strapless Bras    Ae US   \n2  Dark Nude      AERIE  Bra Accessories    Ae US   \n2  Dark Nude      AERIE  Bra Accessories    Ae US   \n\n                                         description  rating  review_count  \\\n0  Quick FixesÂ® Collection: Endless options for ...     NaN           NaN   \n1  Quick FixesÂ® Collection: Endless options for ...     4.0           NaN   \n2  Quick FixesÂ® Collection: Endless options for ...     5.0           NaN   \n2  Quick FixesÂ® Collection: Endless options for ...     5.0           NaN   \n\n  scrapping_datetime     size  availability size_group  \n0     25-04-20 13:25  OneSize             1       None  \n1     25-04-20 13:25  OneSize             1       None  \n2     25-04-20 13:25        A             1       None  \n2     25-04-20 13:25        B             1       None  ",
      "text/html": "<div>\n<style scoped>\n    .dataframe tbody tr th:only-of-type {\n        vertical-align: middle;\n    }\n\n    .dataframe tbody tr th {\n        vertical-align: top;\n    }\n\n    .dataframe thead th {\n        text-align: right;\n    }\n</style>\n<table border=\"1\" class=\"dataframe\">\n  <thead>\n    <tr style=\"text-align: right;\">\n      <th></th>\n      <th>product_name</th>\n      <th>mrp</th>\n      <th>pdp_url</th>\n      <th>color</th>\n      <th>brand_name</th>\n      <th>product_category</th>\n      <th>retailer</th>\n      <th>description</th>\n      <th>rating</th>\n      <th>review_count</th>\n      <th>scrapping_datetime</th>\n      <th>size</th>\n      <th>availability</th>\n      <th>size_group</th>\n    </tr>\n  </thead>\n  <tbody>\n    <tr>\n      <th>0</th>\n      <td>Aerie Adjustable Low-Back Strap</td>\n      <td>15.5</td>\n      <td>Aerie Adjustable Low-Back Strap</td>\n      <td>Multi</td>\n      <td>AERIE</td>\n      <td>Bra Accessories</td>\n      <td>Ae US</td>\n      <td>Quick FixesÂ® Collection: Endless options for ...</td>\n      <td>NaN</td>\n      <td>NaN</td>\n      <td>25-04-20 13:25</td>\n      <td>OneSize</td>\n      <td>1</td>\n      <td>None</td>\n    </tr>\n    <tr>\n      <th>1</th>\n      <td>Aerie Adjustable Low-Back Strap</td>\n      <td>15.5</td>\n      <td>Aerie Adjustable Low-Back Strap</td>\n      <td>Multi</td>\n      <td>AERIE</td>\n      <td>Strapless Bras</td>\n      <td>Ae US</td>\n      <td>Quick FixesÂ® Collection: Endless options for ...</td>\n      <td>4.0</td>\n      <td>NaN</td>\n      <td>25-04-20 13:25</td>\n      <td>OneSize</td>\n      <td>1</td>\n      <td>None</td>\n    </tr>\n    <tr>\n      <th>2</th>\n      <td>Aerie Backless Bare Bra</td>\n      <td>36.5</td>\n      <td>Aerie Backless Bare Bra</td>\n      <td>Dark Nude</td>\n      <td>AERIE</td>\n      <td>Bra Accessories</td>\n      <td>Ae US</td>\n      <td>Quick FixesÂ® Collection: Endless options for ...</td>\n      <td>5.0</td>\n      <td>NaN</td>\n      <td>25-04-20 13:25</td>\n      <td>A</td>\n      <td>1</td>\n      <td>None</td>\n    </tr>\n    <tr>\n      <th>2</th>\n      <td>Aerie Backless Bare Bra</td>\n      <td>36.5</td>\n      <td>Aerie Backless Bare Bra</td>\n      <td>Dark Nude</td>\n      <td>AERIE</td>\n      <td>Bra Accessories</td>\n      <td>Ae US</td>\n      <td>Quick FixesÂ® Collection: Endless options for ...</td>\n      <td>5.0</td>\n      <td>NaN</td>\n      <td>25-04-20 13:25</td>\n      <td>B</td>\n      <td>1</td>\n      <td>None</td>\n    </tr>\n  </tbody>\n</table>\n</div>"
     },
     "execution_count": 24,
     "metadata": {},
     "output_type": "execute_result"
    }
   ],
   "source": [
    "transactions.head(4)"
   ],
   "metadata": {
    "collapsed": false,
    "pycharm": {
     "name": "#%%\n"
    }
   }
  },
  {
   "cell_type": "code",
   "execution_count": 25,
   "outputs": [],
   "source": [
    "transactions['main_category'] = transactions['size_group'].apply(lambda x: 'Others' if pd.isna(x) else 'Bra')"
   ],
   "metadata": {
    "collapsed": false,
    "pycharm": {
     "name": "#%%\n"
    }
   }
  },
  {
   "cell_type": "code",
   "execution_count": 26,
   "outputs": [
    {
     "data": {
      "text/plain": "                                      product_name      mrp  \\\n0                  Aerie Adjustable Low-Back Strap     15.5   \n1                  Aerie Adjustable Low-Back Strap     15.5   \n2                          Aerie Backless Bare Bra     36.5   \n2                          Aerie Backless Bare Bra     36.5   \n2                          Aerie Backless Bare Bra     36.5   \n...                                            ...      ...   \n6075  PINK NEW! Lace Lightly Lined Halter Bralette  474.522   \n6076  PINK NEW! Lace Lightly Lined Halter Bralette  474.522   \n6076  PINK NEW! Lace Lightly Lined Halter Bralette  474.522   \n6076  PINK NEW! Lace Lightly Lined Halter Bralette  474.522   \n6076  PINK NEW! Lace Lightly Lined Halter Bralette  474.522   \n\n                                           pdp_url           color  \\\n0                  Aerie Adjustable Low-Back Strap           Multi   \n1                  Aerie Adjustable Low-Back Strap           Multi   \n2                          Aerie Backless Bare Bra       Dark Nude   \n2                          Aerie Backless Bare Bra       Dark Nude   \n2                          Aerie Backless Bare Bra       Dark Nude   \n...                                            ...             ...   \n6075  PINK NEW! Lace Lightly Lined Halter Bralette  cool geo print   \n6076  PINK NEW! Lace Lightly Lined Halter Bralette         moonray   \n6076  PINK NEW! Lace Lightly Lined Halter Bralette         moonray   \n6076  PINK NEW! Lace Lightly Lined Halter Bralette         moonray   \n6076  PINK NEW! Lace Lightly Lined Halter Bralette         moonray   \n\n                  brand_name                    product_category  \\\n0                      AERIE                     Bra Accessories   \n1                      AERIE                      Strapless Bras   \n2                      AERIE                     Bra Accessories   \n2                      AERIE                     Bra Accessories   \n2                      AERIE                     Bra Accessories   \n...                      ...                                 ...   \n6075  Victoria's Secret Pink  Lace Lightly Lined Halter Bralette   \n6076  Victoria's Secret Pink  Lace Lightly Lined Halter Bralette   \n6076  Victoria's Secret Pink  Lace Lightly Lined Halter Bralette   \n6076  Victoria's Secret Pink  Lace Lightly Lined Halter Bralette   \n6076  Victoria's Secret Pink  Lace Lightly Lined Halter Bralette   \n\n                retailer                                        description  \\\n0                  Ae US  Quick FixesÂ® Collection: Endless options for ...   \n1                  Ae US  Quick FixesÂ® Collection: Endless options for ...   \n2                  Ae US  Quick FixesÂ® Collection: Endless options for ...   \n2                  Ae US  Quick FixesÂ® Collection: Endless options for ...   \n2                  Ae US  Quick FixesÂ® Collection: Endless options for ...   \n...                  ...                                                ...   \n6075  Victoriassecret US  Made for layering and lounging, this halter br...   \n6076  Victoriassecret US  Made for layering and lounging, this halter br...   \n6076  Victoriassecret US  Made for layering and lounging, this halter br...   \n6076  Victoriassecret US  Made for layering and lounging, this halter br...   \n6076  Victoriassecret US  Made for layering and lounging, this halter br...   \n\n      rating  review_count scrapping_datetime     size  availability  \\\n0        NaN           NaN     25-04-20 13:25  OneSize             1   \n1        4.0           NaN     25-04-20 13:25  OneSize             1   \n2        5.0           NaN     25-04-20 13:25        A             1   \n2        5.0           NaN     25-04-20 13:25        B             1   \n2        5.0           NaN     25-04-20 13:25        C             1   \n...      ...           ...                ...      ...           ...   \n6075     4.4          74.0     26-04-20 19:57        L             0   \n6076     4.4          74.0     26-04-20 19:57       XS             1   \n6076     4.4          74.0     26-04-20 19:57        S             0   \n6076     4.4          74.0     26-04-20 19:57        M             0   \n6076     4.4          74.0     26-04-20 19:57        L             0   \n\n     size_group main_category  \n0          None        Others  \n1          None        Others  \n2          None        Others  \n2          None        Others  \n2          None        Others  \n...         ...           ...  \n6075       None        Others  \n6076       None        Others  \n6076       None        Others  \n6076       None        Others  \n6076       None        Others  \n\n[176693 rows x 15 columns]",
      "text/html": "<div>\n<style scoped>\n    .dataframe tbody tr th:only-of-type {\n        vertical-align: middle;\n    }\n\n    .dataframe tbody tr th {\n        vertical-align: top;\n    }\n\n    .dataframe thead th {\n        text-align: right;\n    }\n</style>\n<table border=\"1\" class=\"dataframe\">\n  <thead>\n    <tr style=\"text-align: right;\">\n      <th></th>\n      <th>product_name</th>\n      <th>mrp</th>\n      <th>pdp_url</th>\n      <th>color</th>\n      <th>brand_name</th>\n      <th>product_category</th>\n      <th>retailer</th>\n      <th>description</th>\n      <th>rating</th>\n      <th>review_count</th>\n      <th>scrapping_datetime</th>\n      <th>size</th>\n      <th>availability</th>\n      <th>size_group</th>\n      <th>main_category</th>\n    </tr>\n  </thead>\n  <tbody>\n    <tr>\n      <th>0</th>\n      <td>Aerie Adjustable Low-Back Strap</td>\n      <td>15.5</td>\n      <td>Aerie Adjustable Low-Back Strap</td>\n      <td>Multi</td>\n      <td>AERIE</td>\n      <td>Bra Accessories</td>\n      <td>Ae US</td>\n      <td>Quick FixesÂ® Collection: Endless options for ...</td>\n      <td>NaN</td>\n      <td>NaN</td>\n      <td>25-04-20 13:25</td>\n      <td>OneSize</td>\n      <td>1</td>\n      <td>None</td>\n      <td>Others</td>\n    </tr>\n    <tr>\n      <th>1</th>\n      <td>Aerie Adjustable Low-Back Strap</td>\n      <td>15.5</td>\n      <td>Aerie Adjustable Low-Back Strap</td>\n      <td>Multi</td>\n      <td>AERIE</td>\n      <td>Strapless Bras</td>\n      <td>Ae US</td>\n      <td>Quick FixesÂ® Collection: Endless options for ...</td>\n      <td>4.0</td>\n      <td>NaN</td>\n      <td>25-04-20 13:25</td>\n      <td>OneSize</td>\n      <td>1</td>\n      <td>None</td>\n      <td>Others</td>\n    </tr>\n    <tr>\n      <th>2</th>\n      <td>Aerie Backless Bare Bra</td>\n      <td>36.5</td>\n      <td>Aerie Backless Bare Bra</td>\n      <td>Dark Nude</td>\n      <td>AERIE</td>\n      <td>Bra Accessories</td>\n      <td>Ae US</td>\n      <td>Quick FixesÂ® Collection: Endless options for ...</td>\n      <td>5.0</td>\n      <td>NaN</td>\n      <td>25-04-20 13:25</td>\n      <td>A</td>\n      <td>1</td>\n      <td>None</td>\n      <td>Others</td>\n    </tr>\n    <tr>\n      <th>2</th>\n      <td>Aerie Backless Bare Bra</td>\n      <td>36.5</td>\n      <td>Aerie Backless Bare Bra</td>\n      <td>Dark Nude</td>\n      <td>AERIE</td>\n      <td>Bra Accessories</td>\n      <td>Ae US</td>\n      <td>Quick FixesÂ® Collection: Endless options for ...</td>\n      <td>5.0</td>\n      <td>NaN</td>\n      <td>25-04-20 13:25</td>\n      <td>B</td>\n      <td>1</td>\n      <td>None</td>\n      <td>Others</td>\n    </tr>\n    <tr>\n      <th>2</th>\n      <td>Aerie Backless Bare Bra</td>\n      <td>36.5</td>\n      <td>Aerie Backless Bare Bra</td>\n      <td>Dark Nude</td>\n      <td>AERIE</td>\n      <td>Bra Accessories</td>\n      <td>Ae US</td>\n      <td>Quick FixesÂ® Collection: Endless options for ...</td>\n      <td>5.0</td>\n      <td>NaN</td>\n      <td>25-04-20 13:25</td>\n      <td>C</td>\n      <td>1</td>\n      <td>None</td>\n      <td>Others</td>\n    </tr>\n    <tr>\n      <th>...</th>\n      <td>...</td>\n      <td>...</td>\n      <td>...</td>\n      <td>...</td>\n      <td>...</td>\n      <td>...</td>\n      <td>...</td>\n      <td>...</td>\n      <td>...</td>\n      <td>...</td>\n      <td>...</td>\n      <td>...</td>\n      <td>...</td>\n      <td>...</td>\n      <td>...</td>\n    </tr>\n    <tr>\n      <th>6075</th>\n      <td>PINK NEW! Lace Lightly Lined Halter Bralette</td>\n      <td>474.522</td>\n      <td>PINK NEW! Lace Lightly Lined Halter Bralette</td>\n      <td>cool geo print</td>\n      <td>Victoria's Secret Pink</td>\n      <td>Lace Lightly Lined Halter Bralette</td>\n      <td>Victoriassecret US</td>\n      <td>Made for layering and lounging, this halter br...</td>\n      <td>4.4</td>\n      <td>74.0</td>\n      <td>26-04-20 19:57</td>\n      <td>L</td>\n      <td>0</td>\n      <td>None</td>\n      <td>Others</td>\n    </tr>\n    <tr>\n      <th>6076</th>\n      <td>PINK NEW! Lace Lightly Lined Halter Bralette</td>\n      <td>474.522</td>\n      <td>PINK NEW! Lace Lightly Lined Halter Bralette</td>\n      <td>moonray</td>\n      <td>Victoria's Secret Pink</td>\n      <td>Lace Lightly Lined Halter Bralette</td>\n      <td>Victoriassecret US</td>\n      <td>Made for layering and lounging, this halter br...</td>\n      <td>4.4</td>\n      <td>74.0</td>\n      <td>26-04-20 19:57</td>\n      <td>XS</td>\n      <td>1</td>\n      <td>None</td>\n      <td>Others</td>\n    </tr>\n    <tr>\n      <th>6076</th>\n      <td>PINK NEW! Lace Lightly Lined Halter Bralette</td>\n      <td>474.522</td>\n      <td>PINK NEW! Lace Lightly Lined Halter Bralette</td>\n      <td>moonray</td>\n      <td>Victoria's Secret Pink</td>\n      <td>Lace Lightly Lined Halter Bralette</td>\n      <td>Victoriassecret US</td>\n      <td>Made for layering and lounging, this halter br...</td>\n      <td>4.4</td>\n      <td>74.0</td>\n      <td>26-04-20 19:57</td>\n      <td>S</td>\n      <td>0</td>\n      <td>None</td>\n      <td>Others</td>\n    </tr>\n    <tr>\n      <th>6076</th>\n      <td>PINK NEW! Lace Lightly Lined Halter Bralette</td>\n      <td>474.522</td>\n      <td>PINK NEW! Lace Lightly Lined Halter Bralette</td>\n      <td>moonray</td>\n      <td>Victoria's Secret Pink</td>\n      <td>Lace Lightly Lined Halter Bralette</td>\n      <td>Victoriassecret US</td>\n      <td>Made for layering and lounging, this halter br...</td>\n      <td>4.4</td>\n      <td>74.0</td>\n      <td>26-04-20 19:57</td>\n      <td>M</td>\n      <td>0</td>\n      <td>None</td>\n      <td>Others</td>\n    </tr>\n    <tr>\n      <th>6076</th>\n      <td>PINK NEW! Lace Lightly Lined Halter Bralette</td>\n      <td>474.522</td>\n      <td>PINK NEW! Lace Lightly Lined Halter Bralette</td>\n      <td>moonray</td>\n      <td>Victoria's Secret Pink</td>\n      <td>Lace Lightly Lined Halter Bralette</td>\n      <td>Victoriassecret US</td>\n      <td>Made for layering and lounging, this halter br...</td>\n      <td>4.4</td>\n      <td>74.0</td>\n      <td>26-04-20 19:57</td>\n      <td>L</td>\n      <td>0</td>\n      <td>None</td>\n      <td>Others</td>\n    </tr>\n  </tbody>\n</table>\n<p>176693 rows × 15 columns</p>\n</div>"
     },
     "execution_count": 26,
     "metadata": {},
     "output_type": "execute_result"
    }
   ],
   "source": [
    "transactions"
   ],
   "metadata": {
    "collapsed": false,
    "pycharm": {
     "name": "#%%\n"
    }
   }
  },
  {
   "cell_type": "code",
   "execution_count": 27,
   "outputs": [],
   "source": [
    "transactions.to_csv('src/transactions.csv')"
   ],
   "metadata": {
    "collapsed": false,
    "pycharm": {
     "name": "#%%\n"
    }
   }
  },
  {
   "cell_type": "markdown",
   "source": [
    "We perform the check on rating to see if it's between 0 and 5"
   ],
   "metadata": {
    "collapsed": false,
    "pycharm": {
     "name": "#%% md\n"
    }
   }
  },
  {
   "cell_type": "code",
   "execution_count": 28,
   "outputs": [
    {
     "data": {
      "text/plain": "rating\n1.0      82\n1.5       6\n1.7       6\n2.0     313\n2.4      60\n2.5      93\n2.7       7\n3.0     461\n3.1     112\n3.2     448\n3.3     234\n3.4      30\n3.5     266\n3.6     792\n3.7     698\n3.8     841\n3.9     508\n4.0    1913\n4.1     525\n4.2    1375\n4.3    1391\n4.4    1409\n4.5    3635\n4.6    5186\n4.7    2218\n4.8    1190\n4.9     739\n5.0    5933\nName: rating, dtype: int64"
     },
     "execution_count": 28,
     "metadata": {},
     "output_type": "execute_result"
    }
   ],
   "source": [
    "transactions.groupby(by='rating')['rating'].count()"
   ],
   "metadata": {
    "collapsed": false,
    "pycharm": {
     "name": "#%%\n"
    }
   }
  },
  {
   "cell_type": "markdown",
   "source": [
    "Checked ✅ the type is int64 and the minimum and maximum values are between 1 and 5.\n",
    "We proceed with reviews."
   ],
   "metadata": {
    "collapsed": false,
    "pycharm": {
     "name": "#%% md\n"
    }
   }
  },
  {
   "cell_type": "code",
   "execution_count": 35,
   "outputs": [
    {
     "data": {
      "text/plain": "review_count\n1.000000e+00    2918\n2.000000e+00    2212\n3.000000e+00    1005\n4.000000e+00     816\n5.000000e+00     980\n                ... \n5.070000e+02     360\n5.180000e+02     168\n5.540000e+02     220\n6.420000e+02      60\n1.560000e+38      10\nName: review_count, Length: 105, dtype: int64"
     },
     "execution_count": 35,
     "metadata": {},
     "output_type": "execute_result"
    }
   ],
   "source": [
    "transactions.groupby(by='review_count')['review_count'].count()"
   ],
   "metadata": {
    "collapsed": false,
    "pycharm": {
     "name": "#%%\n"
    }
   }
  },
  {
   "cell_type": "code",
   "execution_count": 36,
   "outputs": [],
   "source": [
    "def clean_review_count(val):\n",
    "    if pd.isna(val):\n",
    "        return np.nan\n",
    "    else:\n",
    "        int(val)\n",
    "    if val < 10000:\n",
    "        return int(val)\n",
    "    else:\n",
    "        return np.nan"
   ],
   "metadata": {
    "collapsed": false,
    "pycharm": {
     "name": "#%%\n"
    }
   }
  },
  {
   "cell_type": "code",
   "execution_count": 37,
   "outputs": [],
   "source": [
    "transactions['review_count'] = transactions.apply(lambda x: clean_review_count(x['review_count']), axis=1)"
   ],
   "metadata": {
    "collapsed": false,
    "pycharm": {
     "name": "#%%\n"
    }
   }
  },
  {
   "cell_type": "code",
   "execution_count": 38,
   "outputs": [
    {
     "data": {
      "text/plain": "review_count\n1.0      2918\n2.0      2212\n3.0      1005\n4.0       816\n5.0       980\n         ... \n476.0      30\n507.0     360\n518.0     168\n554.0     220\n642.0      60\nName: review_count, Length: 104, dtype: int64"
     },
     "execution_count": 38,
     "metadata": {},
     "output_type": "execute_result"
    }
   ],
   "source": [
    "transactions.groupby(by='review_count')['review_count'].count()"
   ],
   "metadata": {
    "collapsed": false,
    "pycharm": {
     "name": "#%%\n"
    }
   }
  },
  {
   "cell_type": "markdown",
   "source": [
    "Finally we check for mrp"
   ],
   "metadata": {
    "collapsed": false,
    "pycharm": {
     "name": "#%% md\n"
    }
   }
  },
  {
   "cell_type": "code",
   "execution_count": 41,
   "outputs": [
    {
     "data": {
      "text/plain": "mrp\n7.5       157\n7.51        4\n7.99        5\n8.0        52\n8.5       725\n         ... \n$82.00     16\n$84.00      1\n$89.00      9\n$96.00      2\n$98.00      6\nName: mrp, Length: 721, dtype: int64"
     },
     "execution_count": 41,
     "metadata": {},
     "output_type": "execute_result"
    }
   ],
   "source": [
    "transactions.groupby(by='mrp')['mrp'].count()"
   ],
   "metadata": {
    "collapsed": false,
    "pycharm": {
     "name": "#%%\n"
    }
   }
  },
  {
   "cell_type": "markdown",
   "source": [
    "As we have values inputed as string, we need to convert all to float in order to perform proper insights with it."
   ],
   "metadata": {
    "collapsed": false,
    "pycharm": {
     "name": "#%% md\n"
    }
   }
  },
  {
   "cell_type": "code",
   "execution_count": 46,
   "outputs": [],
   "source": [
    "def convert_to_float(value):\n",
    "    if isinstance(value, str) and '$' in value:\n",
    "        return float(value.strip('$').replace(',', '').replace('.', '').replace(' ', ''))\n",
    "    else:\n",
    "        return float(value)"
   ],
   "metadata": {
    "collapsed": false,
    "pycharm": {
     "name": "#%%\n"
    }
   }
  },
  {
   "cell_type": "code",
   "execution_count": 47,
   "outputs": [],
   "source": [
    "transactions['mrp'] = transactions.apply(lambda x: convert_to_float(x['mrp']), axis=1)"
   ],
   "metadata": {
    "collapsed": false,
    "pycharm": {
     "name": "#%%\n"
    }
   }
  },
  {
   "cell_type": "code",
   "execution_count": 48,
   "outputs": [
    {
     "data": {
      "text/plain": "mrp\n7.50        157\n7.51          4\n7.99          5\n8.00         52\n8.50        725\n           ... \n8900.00       9\n9600.00       2\n9800.00       6\n10200.00      6\n13500.00      8\nName: mrp, Length: 721, dtype: int64"
     },
     "execution_count": 48,
     "metadata": {},
     "output_type": "execute_result"
    }
   ],
   "source": [
    "transactions.groupby(by='mrp')['mrp'].count()"
   ],
   "metadata": {
    "collapsed": false,
    "pycharm": {
     "name": "#%%\n"
    }
   }
  },
  {
   "cell_type": "code",
   "execution_count": null,
   "outputs": [],
   "source": [],
   "metadata": {
    "collapsed": false,
    "pycharm": {
     "name": "#%%\n"
    }
   }
  }
 ],
 "metadata": {
  "kernelspec": {
   "display_name": "Python 3",
   "language": "python",
   "name": "python3"
  },
  "language_info": {
   "codemirror_mode": {
    "name": "ipython",
    "version": 2
   },
   "file_extension": ".py",
   "mimetype": "text/x-python",
   "name": "python",
   "nbconvert_exporter": "python",
   "pygments_lexer": "ipython2",
   "version": "2.7.6"
  }
 },
 "nbformat": 4,
 "nbformat_minor": 0
}